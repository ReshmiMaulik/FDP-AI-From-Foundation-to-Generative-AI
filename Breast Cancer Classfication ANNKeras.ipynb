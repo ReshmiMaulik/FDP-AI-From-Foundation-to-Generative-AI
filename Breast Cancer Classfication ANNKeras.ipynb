{
 "cells": [
  {
   "cell_type": "code",
   "execution_count": 1,
   "id": "aaa048c2",
   "metadata": {},
   "outputs": [],
   "source": [
    "import numpy as np\n",
    "from matplotlib import pyplot as plt\n",
    "import pandas as pd\n",
    "\n",
    "dataset = pd.read_csv(\"BreastCancerData.csv\")"
   ]
  },
  {
   "cell_type": "code",
   "execution_count": 2,
   "id": "487406b2",
   "metadata": {},
   "outputs": [
    {
     "name": "stdout",
     "output_type": "stream",
     "text": [
      "dataset head\n",
      "         id diagnosis  radius_mean  texture_mean  perimeter_mean  area_mean  \\\n",
      "0    842302         M        17.99         10.38          122.80     1001.0   \n",
      "1    842517         M        20.57         17.77          132.90     1326.0   \n",
      "2  84300903         M        19.69         21.25          130.00     1203.0   \n",
      "3  84348301         M        11.42         20.38           77.58      386.1   \n",
      "4  84358402         M        20.29         14.34          135.10     1297.0   \n",
      "\n",
      "   smoothness_mean  compactness_mean  concavity_mean  concave points_mean  \\\n",
      "0          0.11840           0.27760          0.3001              0.14710   \n",
      "1          0.08474           0.07864          0.0869              0.07017   \n",
      "2          0.10960           0.15990          0.1974              0.12790   \n",
      "3          0.14250           0.28390          0.2414              0.10520   \n",
      "4          0.10030           0.13280          0.1980              0.10430   \n",
      "\n",
      "   ...  texture_worst  perimeter_worst  area_worst  smoothness_worst  \\\n",
      "0  ...          17.33           184.60      2019.0            0.1622   \n",
      "1  ...          23.41           158.80      1956.0            0.1238   \n",
      "2  ...          25.53           152.50      1709.0            0.1444   \n",
      "3  ...          26.50            98.87       567.7            0.2098   \n",
      "4  ...          16.67           152.20      1575.0            0.1374   \n",
      "\n",
      "   compactness_worst  concavity_worst  concave points_worst  symmetry_worst  \\\n",
      "0             0.6656           0.7119                0.2654          0.4601   \n",
      "1             0.1866           0.2416                0.1860          0.2750   \n",
      "2             0.4245           0.4504                0.2430          0.3613   \n",
      "3             0.8663           0.6869                0.2575          0.6638   \n",
      "4             0.2050           0.4000                0.1625          0.2364   \n",
      "\n",
      "   fractal_dimension_worst  Unnamed: 32  \n",
      "0                  0.11890          NaN  \n",
      "1                  0.08902          NaN  \n",
      "2                  0.08758          NaN  \n",
      "3                  0.17300          NaN  \n",
      "4                  0.07678          NaN  \n",
      "\n",
      "[5 rows x 33 columns]\n"
     ]
    }
   ],
   "source": [
    "#starting values of dataset\n",
    "\n",
    "print(\"dataset head\")\n",
    "print(dataset.head(5))\n"
   ]
  },
  {
   "cell_type": "code",
   "execution_count": 3,
   "id": "d7a66907",
   "metadata": {},
   "outputs": [
    {
     "name": "stdout",
     "output_type": "stream",
     "text": [
      "['id' 'diagnosis' 'radius_mean' 'texture_mean' 'perimeter_mean'\n",
      " 'area_mean' 'smoothness_mean' 'compactness_mean' 'concavity_mean'\n",
      " 'concave points_mean' 'symmetry_mean' 'fractal_dimension_mean'\n",
      " 'radius_se' 'texture_se' 'perimeter_se' 'area_se' 'smoothness_se'\n",
      " 'compactness_se' 'concavity_se' 'concave points_se' 'symmetry_se'\n",
      " 'fractal_dimension_se' 'radius_worst' 'texture_worst' 'perimeter_worst'\n",
      " 'area_worst' 'smoothness_worst' 'compactness_worst' 'concavity_worst'\n",
      " 'concave points_worst' 'symmetry_worst' 'fractal_dimension_worst'\n",
      " 'Unnamed: 32']\n"
     ]
    }
   ],
   "source": [
    "print(dataset.columns.values)"
   ]
  },
  {
   "cell_type": "code",
   "execution_count": 4,
   "id": "3095210a",
   "metadata": {},
   "outputs": [
    {
     "name": "stdout",
     "output_type": "stream",
     "text": [
      "<class 'pandas.core.frame.DataFrame'>\n",
      "RangeIndex: 569 entries, 0 to 568\n",
      "Data columns (total 33 columns):\n",
      " #   Column                   Non-Null Count  Dtype  \n",
      "---  ------                   --------------  -----  \n",
      " 0   id                       569 non-null    int64  \n",
      " 1   diagnosis                569 non-null    object \n",
      " 2   radius_mean              569 non-null    float64\n",
      " 3   texture_mean             569 non-null    float64\n",
      " 4   perimeter_mean           569 non-null    float64\n",
      " 5   area_mean                569 non-null    float64\n",
      " 6   smoothness_mean          569 non-null    float64\n",
      " 7   compactness_mean         569 non-null    float64\n",
      " 8   concavity_mean           569 non-null    float64\n",
      " 9   concave points_mean      569 non-null    float64\n",
      " 10  symmetry_mean            569 non-null    float64\n",
      " 11  fractal_dimension_mean   569 non-null    float64\n",
      " 12  radius_se                569 non-null    float64\n",
      " 13  texture_se               569 non-null    float64\n",
      " 14  perimeter_se             569 non-null    float64\n",
      " 15  area_se                  569 non-null    float64\n",
      " 16  smoothness_se            569 non-null    float64\n",
      " 17  compactness_se           569 non-null    float64\n",
      " 18  concavity_se             569 non-null    float64\n",
      " 19  concave points_se        569 non-null    float64\n",
      " 20  symmetry_se              569 non-null    float64\n",
      " 21  fractal_dimension_se     569 non-null    float64\n",
      " 22  radius_worst             569 non-null    float64\n",
      " 23  texture_worst            569 non-null    float64\n",
      " 24  perimeter_worst          569 non-null    float64\n",
      " 25  area_worst               569 non-null    float64\n",
      " 26  smoothness_worst         569 non-null    float64\n",
      " 27  compactness_worst        569 non-null    float64\n",
      " 28  concavity_worst          569 non-null    float64\n",
      " 29  concave points_worst     569 non-null    float64\n",
      " 30  symmetry_worst           569 non-null    float64\n",
      " 31  fractal_dimension_worst  569 non-null    float64\n",
      " 32  Unnamed: 32              0 non-null      float64\n",
      "dtypes: float64(31), int64(1), object(1)\n",
      "memory usage: 146.8+ KB\n",
      "None\n"
     ]
    }
   ],
   "source": [
    "print(dataset.info())"
   ]
  },
  {
   "cell_type": "code",
   "execution_count": 5,
   "id": "c3fca394",
   "metadata": {},
   "outputs": [
    {
     "name": "stdout",
     "output_type": "stream",
     "text": [
      "                 id  radius_mean  texture_mean  perimeter_mean    area_mean  \\\n",
      "count  5.690000e+02   569.000000    569.000000      569.000000   569.000000   \n",
      "mean   3.037183e+07    14.127292     19.289649       91.969033   654.889104   \n",
      "std    1.250206e+08     3.524049      4.301036       24.298981   351.914129   \n",
      "min    8.670000e+03     6.981000      9.710000       43.790000   143.500000   \n",
      "25%    8.692180e+05    11.700000     16.170000       75.170000   420.300000   \n",
      "50%    9.060240e+05    13.370000     18.840000       86.240000   551.100000   \n",
      "75%    8.813129e+06    15.780000     21.800000      104.100000   782.700000   \n",
      "max    9.113205e+08    28.110000     39.280000      188.500000  2501.000000   \n",
      "\n",
      "       smoothness_mean  compactness_mean  concavity_mean  concave points_mean  \\\n",
      "count       569.000000        569.000000      569.000000           569.000000   \n",
      "mean          0.096360          0.104341        0.088799             0.048919   \n",
      "std           0.014064          0.052813        0.079720             0.038803   \n",
      "min           0.052630          0.019380        0.000000             0.000000   \n",
      "25%           0.086370          0.064920        0.029560             0.020310   \n",
      "50%           0.095870          0.092630        0.061540             0.033500   \n",
      "75%           0.105300          0.130400        0.130700             0.074000   \n",
      "max           0.163400          0.345400        0.426800             0.201200   \n",
      "\n",
      "       symmetry_mean  ...  texture_worst  perimeter_worst   area_worst  \\\n",
      "count     569.000000  ...     569.000000       569.000000   569.000000   \n",
      "mean        0.181162  ...      25.677223       107.261213   880.583128   \n",
      "std         0.027414  ...       6.146258        33.602542   569.356993   \n",
      "min         0.106000  ...      12.020000        50.410000   185.200000   \n",
      "25%         0.161900  ...      21.080000        84.110000   515.300000   \n",
      "50%         0.179200  ...      25.410000        97.660000   686.500000   \n",
      "75%         0.195700  ...      29.720000       125.400000  1084.000000   \n",
      "max         0.304000  ...      49.540000       251.200000  4254.000000   \n",
      "\n",
      "       smoothness_worst  compactness_worst  concavity_worst  \\\n",
      "count        569.000000         569.000000       569.000000   \n",
      "mean           0.132369           0.254265         0.272188   \n",
      "std            0.022832           0.157336         0.208624   \n",
      "min            0.071170           0.027290         0.000000   \n",
      "25%            0.116600           0.147200         0.114500   \n",
      "50%            0.131300           0.211900         0.226700   \n",
      "75%            0.146000           0.339100         0.382900   \n",
      "max            0.222600           1.058000         1.252000   \n",
      "\n",
      "       concave points_worst  symmetry_worst  fractal_dimension_worst  \\\n",
      "count            569.000000      569.000000               569.000000   \n",
      "mean               0.114606        0.290076                 0.083946   \n",
      "std                0.065732        0.061867                 0.018061   \n",
      "min                0.000000        0.156500                 0.055040   \n",
      "25%                0.064930        0.250400                 0.071460   \n",
      "50%                0.099930        0.282200                 0.080040   \n",
      "75%                0.161400        0.317900                 0.092080   \n",
      "max                0.291000        0.663800                 0.207500   \n",
      "\n",
      "       Unnamed: 32  \n",
      "count          0.0  \n",
      "mean           NaN  \n",
      "std            NaN  \n",
      "min            NaN  \n",
      "25%            NaN  \n",
      "50%            NaN  \n",
      "75%            NaN  \n",
      "max            NaN  \n",
      "\n",
      "[8 rows x 32 columns]\n"
     ]
    }
   ],
   "source": [
    "print(dataset.describe())"
   ]
  },
  {
   "cell_type": "code",
   "execution_count": 6,
   "id": "622e3611",
   "metadata": {},
   "outputs": [
    {
     "name": "stdout",
     "output_type": "stream",
     "text": [
      "       diagnosis\n",
      "count        569\n",
      "unique         2\n",
      "top            B\n",
      "freq         357\n"
     ]
    }
   ],
   "source": [
    "print(dataset.describe(include=['O']))"
   ]
  },
  {
   "cell_type": "code",
   "execution_count": 7,
   "id": "b5af205a",
   "metadata": {},
   "outputs": [],
   "source": [
    "X = dataset.iloc[:,2:32]\n",
    "Y= dataset.iloc[:,1]"
   ]
  },
  {
   "cell_type": "code",
   "execution_count": 8,
   "id": "f4d28a39",
   "metadata": {},
   "outputs": [
    {
     "name": "stdout",
     "output_type": "stream",
     "text": [
      "Before encoding\n",
      "100    M\n",
      "101    B\n",
      "102    B\n",
      "103    B\n",
      "104    B\n",
      "105    M\n",
      "106    B\n",
      "107    B\n",
      "108    M\n",
      "109    B\n",
      "Name: diagnosis, dtype: object\n",
      "After Encoding\n",
      "[1 0 0 0 0 1 0 0 1 0]\n"
     ]
    }
   ],
   "source": [
    "from sklearn.preprocessing import LabelEncoder\n",
    "\n",
    "print(\"Before encoding\")\n",
    "print(Y[100:110])\n",
    "\n",
    "\n",
    "labelencoder_Y = LabelEncoder()\n",
    "\n",
    "Y=labelencoder_Y.fit_transform(Y)\n",
    "\n",
    "print(\"After Encoding\")\n",
    "\n",
    "print(Y[100:110])"
   ]
  },
  {
   "cell_type": "code",
   "execution_count": 9,
   "id": "aa1c8209",
   "metadata": {},
   "outputs": [],
   "source": [
    "from sklearn.model_selection import train_test_split\n",
    "\n",
    "X_train,X_test,Y_train,Y_test = train_test_split(X,Y,test_size=0.2, random_state=0)"
   ]
  },
  {
   "cell_type": "code",
   "execution_count": 10,
   "id": "ac10c0c8",
   "metadata": {},
   "outputs": [],
   "source": [
    "from sklearn.preprocessing import StandardScaler\n",
    "\n",
    "sc=StandardScaler()\n",
    "X_train=sc.fit_transform(X_train)\n",
    "X_test = sc.transform(X_test)"
   ]
  },
  {
   "cell_type": "code",
   "execution_count": 11,
   "id": "9ce8c263",
   "metadata": {},
   "outputs": [],
   "source": [
    "# no of features + no of output nodes/ 2\n",
    "\n",
    "from keras.models import Sequential\n",
    "from keras.layers import Dense\n",
    "\n",
    "classifier = Sequential()\n",
    "\n",
    "classifier.add(Dense(units=16, kernel_initializer=\"uniform\",activation=\"relu\",input_dim=30))\n",
    "\n",
    "classifier.add(Dense(units=8, kernel_initializer=\"uniform\",activation=\"relu\"))\n",
    "\n",
    "classifier.add(Dense(units=6, kernel_initializer=\"uniform\",activation=\"relu\"))\n",
    "\n",
    "\n",
    "classifier.add(Dense(units=1, kernel_initializer=\"uniform\",activation=\"sigmoid\"))"
   ]
  },
  {
   "cell_type": "code",
   "execution_count": 12,
   "id": "6d0874fd",
   "metadata": {},
   "outputs": [],
   "source": [
    "classifier.compile(optimizer='rmsprop',loss='binary_crossentropy',metrics=['accuracy'])"
   ]
  },
  {
   "cell_type": "code",
   "execution_count": 13,
   "id": "c0d54241",
   "metadata": {},
   "outputs": [
    {
     "name": "stdout",
     "output_type": "stream",
     "text": [
      "Epoch 1/100\n",
      "455/455 [==============================] - 1s 2ms/step - loss: 0.5355 - accuracy: 0.6879\n",
      "Epoch 2/100\n",
      "455/455 [==============================] - 1s 2ms/step - loss: 0.2090 - accuracy: 0.9582\n",
      "Epoch 3/100\n",
      "455/455 [==============================] - 1s 2ms/step - loss: 0.1034 - accuracy: 0.9692\n",
      "Epoch 4/100\n",
      "455/455 [==============================] - 1s 2ms/step - loss: 0.1071 - accuracy: 0.9714\n",
      "Epoch 5/100\n",
      "455/455 [==============================] - 1s 2ms/step - loss: 0.0994 - accuracy: 0.9758\n",
      "Epoch 6/100\n",
      "455/455 [==============================] - 1s 2ms/step - loss: 0.0934 - accuracy: 0.9802\n",
      "Epoch 7/100\n",
      "455/455 [==============================] - 1s 2ms/step - loss: 0.0981 - accuracy: 0.9824\n",
      "Epoch 8/100\n",
      "455/455 [==============================] - 1s 2ms/step - loss: 0.0886 - accuracy: 0.9824\n",
      "Epoch 9/100\n",
      "455/455 [==============================] - 1s 2ms/step - loss: 0.0938 - accuracy: 0.9846\n",
      "Epoch 10/100\n",
      "455/455 [==============================] - 1s 1ms/step - loss: 0.0947 - accuracy: 0.9890\n",
      "Epoch 11/100\n",
      "455/455 [==============================] - 1s 2ms/step - loss: 0.0995 - accuracy: 0.9846\n",
      "Epoch 12/100\n",
      "455/455 [==============================] - 1s 2ms/step - loss: 0.0974 - accuracy: 0.9846\n",
      "Epoch 13/100\n",
      "455/455 [==============================] - 1s 2ms/step - loss: 0.0899 - accuracy: 0.9846\n",
      "Epoch 14/100\n",
      "455/455 [==============================] - 1s 2ms/step - loss: 0.1024 - accuracy: 0.9846\n",
      "Epoch 15/100\n",
      "455/455 [==============================] - 1s 2ms/step - loss: 0.0946 - accuracy: 0.9868\n",
      "Epoch 16/100\n",
      "455/455 [==============================] - 1s 2ms/step - loss: 0.0928 - accuracy: 0.9868\n",
      "Epoch 17/100\n",
      "455/455 [==============================] - 1s 2ms/step - loss: 0.0865 - accuracy: 0.9868\n",
      "Epoch 18/100\n",
      "455/455 [==============================] - 1s 2ms/step - loss: 0.0854 - accuracy: 0.9890\n",
      "Epoch 19/100\n",
      "455/455 [==============================] - 1s 2ms/step - loss: 0.0779 - accuracy: 0.9890\n",
      "Epoch 20/100\n",
      "455/455 [==============================] - 1s 2ms/step - loss: 0.0710 - accuracy: 0.9890\n",
      "Epoch 21/100\n",
      "455/455 [==============================] - 1s 2ms/step - loss: 0.0754 - accuracy: 0.9890\n",
      "Epoch 22/100\n",
      "455/455 [==============================] - 1s 2ms/step - loss: 0.0690 - accuracy: 0.9890\n",
      "Epoch 23/100\n",
      "455/455 [==============================] - 1s 2ms/step - loss: 0.0629 - accuracy: 0.9890\n",
      "Epoch 24/100\n",
      "455/455 [==============================] - 1s 2ms/step - loss: 0.0629 - accuracy: 0.9890\n",
      "Epoch 25/100\n",
      "455/455 [==============================] - 1s 2ms/step - loss: 0.0626 - accuracy: 0.9890\n",
      "Epoch 26/100\n",
      "455/455 [==============================] - 1s 2ms/step - loss: 0.0592 - accuracy: 0.9890\n",
      "Epoch 27/100\n",
      "455/455 [==============================] - 1s 2ms/step - loss: 0.0570 - accuracy: 0.9890\n",
      "Epoch 28/100\n",
      "455/455 [==============================] - 1s 2ms/step - loss: 0.0526 - accuracy: 0.9890\n",
      "Epoch 29/100\n",
      "455/455 [==============================] - 1s 2ms/step - loss: 0.0560 - accuracy: 0.9890\n",
      "Epoch 30/100\n",
      "455/455 [==============================] - 1s 2ms/step - loss: 0.0564 - accuracy: 0.9912\n",
      "Epoch 31/100\n",
      "455/455 [==============================] - 1s 2ms/step - loss: 0.0573 - accuracy: 0.9912\n",
      "Epoch 32/100\n",
      "455/455 [==============================] - 1s 2ms/step - loss: 0.0561 - accuracy: 0.9890\n",
      "Epoch 33/100\n",
      "455/455 [==============================] - 1s 2ms/step - loss: 0.0645 - accuracy: 0.9890\n",
      "Epoch 34/100\n",
      "455/455 [==============================] - 1s 2ms/step - loss: 0.0599 - accuracy: 0.9912\n",
      "Epoch 35/100\n",
      "455/455 [==============================] - 1s 2ms/step - loss: 0.0590 - accuracy: 0.9912\n",
      "Epoch 36/100\n",
      "455/455 [==============================] - 1s 2ms/step - loss: 0.0547 - accuracy: 0.9890\n",
      "Epoch 37/100\n",
      "455/455 [==============================] - 1s 2ms/step - loss: 0.0571 - accuracy: 0.9912\n",
      "Epoch 38/100\n",
      "455/455 [==============================] - 1s 2ms/step - loss: 0.0564 - accuracy: 0.9912\n",
      "Epoch 39/100\n",
      "455/455 [==============================] - 1s 2ms/step - loss: 0.0492 - accuracy: 0.9912\n",
      "Epoch 40/100\n",
      "455/455 [==============================] - 1s 2ms/step - loss: 0.0585 - accuracy: 0.9912\n",
      "Epoch 41/100\n",
      "455/455 [==============================] - 1s 2ms/step - loss: 0.0551 - accuracy: 0.9912\n",
      "Epoch 42/100\n",
      "455/455 [==============================] - 1s 2ms/step - loss: 0.0531 - accuracy: 0.9912\n",
      "Epoch 43/100\n",
      "455/455 [==============================] - 1s 2ms/step - loss: 0.0575 - accuracy: 0.9912\n",
      "Epoch 44/100\n",
      "455/455 [==============================] - 1s 2ms/step - loss: 0.0595 - accuracy: 0.9912\n",
      "Epoch 45/100\n",
      "455/455 [==============================] - 1s 2ms/step - loss: 0.0558 - accuracy: 0.9912\n",
      "Epoch 46/100\n",
      "455/455 [==============================] - 1s 2ms/step - loss: 0.0560 - accuracy: 0.9912\n",
      "Epoch 47/100\n",
      "455/455 [==============================] - 1s 2ms/step - loss: 0.0545 - accuracy: 0.9890\n",
      "Epoch 48/100\n",
      "455/455 [==============================] - 1s 2ms/step - loss: 0.0547 - accuracy: 0.9912\n",
      "Epoch 49/100\n",
      "455/455 [==============================] - 1s 2ms/step - loss: 0.0500 - accuracy: 0.9912\n",
      "Epoch 50/100\n",
      "455/455 [==============================] - 1s 2ms/step - loss: 0.0577 - accuracy: 0.9890\n",
      "Epoch 51/100\n",
      "455/455 [==============================] - 1s 2ms/step - loss: 0.0553 - accuracy: 0.9912\n",
      "Epoch 52/100\n",
      "455/455 [==============================] - 1s 2ms/step - loss: 0.0631 - accuracy: 0.9890\n",
      "Epoch 53/100\n",
      "455/455 [==============================] - 1s 2ms/step - loss: 0.0507 - accuracy: 0.9912\n",
      "Epoch 54/100\n",
      "455/455 [==============================] - 1s 2ms/step - loss: 0.0509 - accuracy: 0.9912\n",
      "Epoch 55/100\n",
      "455/455 [==============================] - 1s 2ms/step - loss: 0.0506 - accuracy: 0.9912\n",
      "Epoch 56/100\n",
      "455/455 [==============================] - 1s 2ms/step - loss: 0.0445 - accuracy: 0.9912\n",
      "Epoch 57/100\n",
      "455/455 [==============================] - 1s 2ms/step - loss: 0.0455 - accuracy: 0.9912\n",
      "Epoch 58/100\n",
      "455/455 [==============================] - 1s 2ms/step - loss: 0.0516 - accuracy: 0.9890\n",
      "Epoch 59/100\n",
      "455/455 [==============================] - 1s 2ms/step - loss: 0.0507 - accuracy: 0.9912\n",
      "Epoch 60/100\n",
      "455/455 [==============================] - 1s 2ms/step - loss: 0.0503 - accuracy: 0.9890\n",
      "Epoch 61/100\n",
      "455/455 [==============================] - 1s 2ms/step - loss: 0.0446 - accuracy: 0.9912\n",
      "Epoch 62/100\n",
      "455/455 [==============================] - 1s 2ms/step - loss: 0.0488 - accuracy: 0.9890\n",
      "Epoch 63/100\n",
      "455/455 [==============================] - 1s 2ms/step - loss: 0.0624 - accuracy: 0.9890\n",
      "Epoch 64/100\n",
      "455/455 [==============================] - 1s 2ms/step - loss: 0.0555 - accuracy: 0.9912\n",
      "Epoch 65/100\n",
      "455/455 [==============================] - 1s 3ms/step - loss: 0.0439 - accuracy: 0.9912\n",
      "Epoch 66/100\n",
      "455/455 [==============================] - 1s 2ms/step - loss: 0.0469 - accuracy: 0.9912\n",
      "Epoch 67/100\n",
      "455/455 [==============================] - 1s 3ms/step - loss: 0.0518 - accuracy: 0.9890\n",
      "Epoch 68/100\n",
      "455/455 [==============================] - 1s 2ms/step - loss: 0.0446 - accuracy: 0.9912\n",
      "Epoch 69/100\n",
      "455/455 [==============================] - 1s 2ms/step - loss: 0.0442 - accuracy: 0.9912\n",
      "Epoch 70/100\n",
      "455/455 [==============================] - 1s 2ms/step - loss: 0.0476 - accuracy: 0.9912\n",
      "Epoch 71/100\n",
      "455/455 [==============================] - 1s 2ms/step - loss: 0.0484 - accuracy: 0.9890\n",
      "Epoch 72/100\n",
      "455/455 [==============================] - 1s 2ms/step - loss: 0.0429 - accuracy: 0.9912\n",
      "Epoch 73/100\n",
      "455/455 [==============================] - 1s 2ms/step - loss: 0.0474 - accuracy: 0.9912\n",
      "Epoch 74/100\n",
      "455/455 [==============================] - 1s 2ms/step - loss: 0.0466 - accuracy: 0.9890\n",
      "Epoch 75/100\n",
      "455/455 [==============================] - 1s 2ms/step - loss: 0.0419 - accuracy: 0.9912\n",
      "Epoch 76/100\n",
      "455/455 [==============================] - 1s 2ms/step - loss: 0.0483 - accuracy: 0.9890\n",
      "Epoch 77/100\n",
      "455/455 [==============================] - 1s 2ms/step - loss: 0.0480 - accuracy: 0.9890\n",
      "Epoch 78/100\n",
      "455/455 [==============================] - 1s 2ms/step - loss: 0.0359 - accuracy: 0.9912\n",
      "Epoch 79/100\n",
      "455/455 [==============================] - 1s 2ms/step - loss: 0.0460 - accuracy: 0.9890\n",
      "Epoch 80/100\n",
      "455/455 [==============================] - 1s 2ms/step - loss: 0.0467 - accuracy: 0.9912\n",
      "Epoch 81/100\n",
      "455/455 [==============================] - 1s 2ms/step - loss: 0.0460 - accuracy: 0.9890\n",
      "Epoch 82/100\n",
      "455/455 [==============================] - 1s 2ms/step - loss: 0.0417 - accuracy: 0.9912\n",
      "Epoch 83/100\n",
      "455/455 [==============================] - 1s 2ms/step - loss: 0.0441 - accuracy: 0.9912\n",
      "Epoch 84/100\n",
      "455/455 [==============================] - 1s 2ms/step - loss: 0.0434 - accuracy: 0.9890\n",
      "Epoch 85/100\n",
      "455/455 [==============================] - 1s 2ms/step - loss: 0.0366 - accuracy: 0.9912\n",
      "Epoch 86/100\n",
      "455/455 [==============================] - 1s 2ms/step - loss: 0.0373 - accuracy: 0.9912\n",
      "Epoch 87/100\n",
      "455/455 [==============================] - 1s 2ms/step - loss: 0.0355 - accuracy: 0.9890\n",
      "Epoch 88/100\n",
      "455/455 [==============================] - 1s 2ms/step - loss: 0.0298 - accuracy: 0.9912\n",
      "Epoch 89/100\n",
      "455/455 [==============================] - 1s 2ms/step - loss: 0.0361 - accuracy: 0.9912\n",
      "Epoch 90/100\n",
      "455/455 [==============================] - 1s 2ms/step - loss: 0.0361 - accuracy: 0.9890\n",
      "Epoch 91/100\n",
      "455/455 [==============================] - 1s 2ms/step - loss: 0.0352 - accuracy: 0.9912\n",
      "Epoch 92/100\n",
      "455/455 [==============================] - 1s 2ms/step - loss: 0.0396 - accuracy: 0.9890\n",
      "Epoch 93/100\n",
      "455/455 [==============================] - 1s 2ms/step - loss: 0.0371 - accuracy: 0.9912\n",
      "Epoch 94/100\n",
      "455/455 [==============================] - 1s 2ms/step - loss: 0.0384 - accuracy: 0.9912\n",
      "Epoch 95/100\n",
      "455/455 [==============================] - 1s 2ms/step - loss: 0.0366 - accuracy: 0.9890\n",
      "Epoch 96/100\n",
      "455/455 [==============================] - 1s 2ms/step - loss: 0.0316 - accuracy: 0.9912\n",
      "Epoch 97/100\n",
      "455/455 [==============================] - 1s 3ms/step - loss: 0.0303 - accuracy: 0.9912\n",
      "Epoch 98/100\n",
      "455/455 [==============================] - 2s 3ms/step - loss: 0.0419 - accuracy: 0.9890\n",
      "Epoch 99/100\n",
      "455/455 [==============================] - 1s 3ms/step - loss: 0.0350 - accuracy: 0.9912\n",
      "Epoch 100/100\n",
      "455/455 [==============================] - 1s 3ms/step - loss: 0.0312 - accuracy: 0.9912\n"
     ]
    },
    {
     "data": {
      "text/plain": [
       "<keras.src.callbacks.History at 0x1e548141390>"
      ]
     },
     "execution_count": 13,
     "metadata": {},
     "output_type": "execute_result"
    }
   ],
   "source": [
    "classifier.fit(X_train,Y_train,batch_size=1,epochs=100)"
   ]
  },
  {
   "cell_type": "code",
   "execution_count": 14,
   "id": "f20cd7ce",
   "metadata": {},
   "outputs": [
    {
     "name": "stderr",
     "output_type": "stream",
     "text": [
      "C:\\Users\\swati yadav\\anaconda3\\Lib\\site-packages\\keras\\src\\engine\\training.py:3000: UserWarning: You are saving your model as an HDF5 file via `model.save()`. This file format is considered legacy. We recommend using instead the native Keras format, e.g. `model.save('my_model.keras')`.\n",
      "  saving_api.save_model(\n"
     ]
    }
   ],
   "source": [
    "from keras.models import load_model\n",
    "\n",
    "classifier.save(\"breast_cancer_model1.h5\")"
   ]
  },
  {
   "cell_type": "code",
   "execution_count": 15,
   "id": "ba909453",
   "metadata": {},
   "outputs": [
    {
     "name": "stdout",
     "output_type": "stream",
     "text": [
      "4/4 [==============================] - 0s 2ms/step\n"
     ]
    }
   ],
   "source": [
    "y_pred=classifier.predict(X_test)\n",
    "y_pred=[ 1 if y>=0.5 else 0 for y in y_pred]"
   ]
  },
  {
   "cell_type": "code",
   "execution_count": 16,
   "id": "cc83a396",
   "metadata": {},
   "outputs": [
    {
     "name": "stdout",
     "output_type": "stream",
     "text": [
      "[[67  0]\n",
      " [ 2 45]]\n"
     ]
    }
   ],
   "source": [
    "from sklearn.metrics import confusion_matrix\n",
    "\n",
    "cm = confusion_matrix(Y_test,y_pred)\n",
    "\n",
    "print(cm)"
   ]
  },
  {
   "cell_type": "code",
   "execution_count": 17,
   "id": "6691dfc3",
   "metadata": {},
   "outputs": [
    {
     "name": "stdout",
     "output_type": "stream",
     "text": [
      "[[67  0]\n",
      " [ 2 45]]\n",
      "Accuracy: 98.24561403508771%\n"
     ]
    }
   ],
   "source": [
    "from sklearn.metrics import confusion_matrix\n",
    "cm = confusion_matrix(Y_test, y_pred)\n",
    "print(cm)\n",
    "\n",
    "accuracy = (cm[0][0]+cm[1][1])/(cm[0][0]+cm[0][1]+cm[1][0]+cm[1][1])\n",
    "print(\"Accuracy: \"+ str(accuracy*100)+\"%\")"
   ]
  },
  {
   "cell_type": "code",
   "execution_count": null,
   "id": "3df92f9d",
   "metadata": {},
   "outputs": [],
   "source": []
  }
 ],
 "metadata": {
  "kernelspec": {
   "display_name": "Python 3 (ipykernel)",
   "language": "python",
   "name": "python3"
  },
  "language_info": {
   "codemirror_mode": {
    "name": "ipython",
    "version": 3
   },
   "file_extension": ".py",
   "mimetype": "text/x-python",
   "name": "python",
   "nbconvert_exporter": "python",
   "pygments_lexer": "ipython3",
   "version": "3.11.3"
  }
 },
 "nbformat": 4,
 "nbformat_minor": 5
}
